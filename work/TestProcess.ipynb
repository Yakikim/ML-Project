{
 "cells": [
  {
   "cell_type": "code",
   "execution_count": 11,
   "id": "cb21318e-b6fe-4faa-b788-adc29772c17c",
   "metadata": {},
   "outputs": [
    {
     "name": "stderr",
     "output_type": "stream",
     "text": [
      "Exception ignored in: <function ZipFile.__del__ at 0x7fb3a6ab56c0>\n",
      "Traceback (most recent call last):\n",
      "  File \"/opt/conda/lib/python3.11/zipfile.py\", line 1874, in __del__\n",
      "    self.close()\n",
      "  File \"/opt/conda/lib/python3.11/zipfile.py\", line 1891, in close\n",
      "    self.fp.seek(self.start_dir)\n",
      "ValueError: seek of closed file\n"
     ]
    }
   ],
   "source": [
    "import pandas as pd\n",
    "from openpyxl import load_workbook\n",
    "\n",
    "def process_race_data(input_file_path, output_file_path):\n",
    "    # Read the Excel file\n",
    "    df = pd.read_excel(input_file_path)\n",
    "\n",
    "    # Sort the data by RunnerID and DateOfTheRace\n",
    "    df.sort_values(by=['RunnerID', 'DateOfTheRace'], ascending=[True, True], inplace=True)\n",
    "\n",
    "    # Create a new DataFrame to store the results\n",
    "    output_data = pd.DataFrame(columns=['RunnerID', 'Marathon', 'MarathonResult', \n",
    "                                        'RaceOne', 'RaceOneResult', 'RaceOneKM', \n",
    "                                        'RaceTwo', 'RaceTwoResult', 'RaceTwoKM'])\n",
    "\n",
    "    # Iterate over unique RunnerIDs\n",
    "    for runner_id in df['RunnerID'].unique():\n",
    "        runner_data = df[df['RunnerID'] == runner_id]\n",
    "\n",
    "        # Find the marathon (race with distance > 40000 meters)\n",
    "        marathon_data = runner_data[runner_data['NumberOfMeters'] > 40000].tail(1)\n",
    "\n",
    "        if marathon_data.empty:\n",
    "            continue\n",
    "\n",
    "        marathon_distance = marathon_data['NumberOfMeters'].values[0]\n",
    "        marathon_result = marathon_data['Result'].values[0]\n",
    "\n",
    "        # Find the races before the marathon\n",
    "        races_before_marathon = runner_data[runner_data['DateOfTheRace'] < marathon_data['DateOfTheRace'].values[0]]\n",
    "\n",
    "        if len(races_before_marathon) >= 2:\n",
    "            race_one = races_before_marathon.tail(1)\n",
    "            race_two = races_before_marathon.tail(2).head(1)\n",
    "\n",
    "            race_one_name = race_one['NameOfTheRace'].values[0]\n",
    "            race_one_result = race_one['Result'].values[0]\n",
    "            race_one_distance = race_one['NumberOfMeters'].values[0]\n",
    "\n",
    "            race_two_name = race_two['NameOfTheRace'].values[0]\n",
    "            race_two_result = race_two['Result'].values[0]\n",
    "            race_two_distance = race_two['NumberOfMeters'].values[0]\n",
    "        else:\n",
    "            # If there are no two races before the marathon, skip this runner\n",
    "            continue\n",
    "\n",
    "        output_data = pd.concat([output_data, pd.DataFrame([{\n",
    "            'RunnerID': runner_id,\n",
    "            'Marathon': marathon_distance,\n",
    "            'MarathonResult': marathon_result,\n",
    "            'RaceOne': race_one_name,\n",
    "            'RaceOneResult': race_one_result,\n",
    "            'RaceOneKM': race_one_distance,\n",
    "            'RaceTwo': race_two_name,\n",
    "            'RaceTwoResult': race_two_result,\n",
    "            'RaceTwoKM': race_two_distance\n",
    "        }])], ignore_index=True)\n",
    "    output_data.to_csv(output_file_path, index=False)\n",
    "    # Save the output data to a new sheet in the same Excel file\n",
    "    #book = load_workbook(output_file_path)\n",
    "    #with pd.ExcelWriter(output_file_path, engine='openpyxl') as writer:\n",
    "    #    writer.book = book\n",
    "     #   writer.sheets.update(dict((ws.title, ws) for ws in book.worksheets))\n",
    "    #    output_data.to_excel(writer, sheet_name='Processed_Data', index=False)\n",
    "    #writer.save()\n",
    "    #writer.close()\n",
    "\n",
    "# Example usage:\n",
    "input_file_path = 'InputToProcess.xlsx'\n",
    "output_file_path = 'OutputFromProcess.csv'\n",
    "process_race_data(input_file_path, output_file_path)\n"
   ]
  },
  {
   "cell_type": "code",
   "execution_count": null,
   "id": "bad23641-14f0-411a-bca6-d70caa4b46af",
   "metadata": {},
   "outputs": [],
   "source": []
  }
 ],
 "metadata": {
  "kernelspec": {
   "display_name": "Python 3 (ipykernel)",
   "language": "python",
   "name": "python3"
  },
  "language_info": {
   "codemirror_mode": {
    "name": "ipython",
    "version": 3
   },
   "file_extension": ".py",
   "mimetype": "text/x-python",
   "name": "python",
   "nbconvert_exporter": "python",
   "pygments_lexer": "ipython3",
   "version": "3.11.4"
  }
 },
 "nbformat": 4,
 "nbformat_minor": 5
}

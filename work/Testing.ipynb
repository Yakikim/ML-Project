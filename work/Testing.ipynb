{
 "cells": [
  {
   "cell_type": "markdown",
   "id": "c2d4e16e-8e6f-460e-874d-0c273f353d6b",
   "metadata": {},
   "source": [
    "### Testing write to xlsx file"
   ]
  },
  {
   "cell_type": "code",
   "execution_count": null,
   "id": "067217d5-3bee-411b-84f9-5a434590dd3f",
   "metadata": {},
   "outputs": [],
   "source": [
    "from openpyxl import Workbook\n",
    "wb = Workbook()\n",
    "\n",
    "# grab the active worksheet\n",
    "ws = wb.active\n",
    "\n",
    "# Data can be assigned directly to cells\n",
    "ws['A1'] = 42\n",
    "\n",
    "# Rows can also be appended\n",
    "ws.append([1, 2, 3])\n",
    "\n",
    "# Python types will automatically be converted\n",
    "import datetime\n",
    "ws['A2'] = datetime.datetime.now()\n",
    "\n",
    "# Save the file\n",
    "wb.save(\"sample.xlsx\")"
   ]
  },
  {
   "cell_type": "code",
   "execution_count": 5,
   "id": "386dd742-e2c6-447a-bf83-8f1c611cbdda",
   "metadata": {},
   "outputs": [
    {
     "name": "stdout",
     "output_type": "stream",
     "text": [
      "environ({'SHELL': '/bin/bash', 'HOSTNAME': '457f5c444475', 'LANGUAGE': 'en_US.UTF-8', 'NB_UID': '1000', 'JULIA_PKGDIR': '/opt/julia', 'PWD': '/home/jovyan', 'HOME': '/home/jovyan', 'LANG': 'en_US.UTF-8', 'NB_GID': '100', 'JULIA_VERSION': '1.9.1', 'XDG_CACHE_HOME': '/home/jovyan/.cache/', 'TERM': 'xterm-color', 'SHLVL': '0', 'CONDA_DIR': '/opt/conda', 'JULIA_DEPOT_PATH': '/opt/julia', 'JUPYTER_PORT': '8888', 'NB_USER': 'jovyan', 'LC_ALL': 'en_US.UTF-8', 'PATH': '/opt/conda/bin:/usr/local/sbin:/usr/local/bin:/usr/sbin:/usr/bin:/sbin:/bin', 'DEBIAN_FRONTEND': 'noninteractive', 'GIT_PYTHON_REFRESH': 'quiet', 'PYDEVD_USE_FRAME_EVAL': 'NO', 'JPY_SESSION_NAME': '/home/jovyan/work/Untitled1.ipynb', 'JPY_PARENT_PID': '7', 'CLICOLOR': '1', 'FORCE_COLOR': '1', 'CLICOLOR_FORCE': '1', 'PAGER': 'cat', 'GIT_PAGER': 'cat', 'MPLBACKEND': 'module://matplotlib_inline.backend_inline', 'PARAM_WORKER1': 'param3', 'PARAM_WORKER2': 'param4', 'PARAM_WORKER3': 'param9'})\n"
     ]
    }
   ],
   "source": [
    "import os\n",
    "import random\n",
    "\n",
    "workers = {\n",
    "    'worker1': ['param1', 'param2', 'param3'],\n",
    "    'worker2': ['param4', 'param5', 'param6'],\n",
    "    'worker3': ['param7', 'param8', 'param9']\n",
    "}\n",
    "\n",
    "for worker, params in workers.items():\n",
    "    param = random.choice(params)\n",
    "    os.environ[f'PARAM_{worker.upper()}'] = param\n",
    "print(os.environ)\n"
   ]
  },
  {
   "cell_type": "code",
   "execution_count": 36,
   "id": "ddbdb68e-42f3-4947-9d70-d09c768c77e0",
   "metadata": {},
   "outputs": [
    {
     "name": "stdout",
     "output_type": "stream",
     "text": [
      "48430\n",
      "PARAM_WORKER_FROM1:67600\n",
      "PARAM_WORKER_TO1:75671\n",
      "PARAM_WORKER_FROM2:75671\n",
      "PARAM_WORKER_TO2:83743\n",
      "PARAM_WORKER_FROM3:83743\n",
      "PARAM_WORKER_TO3:91815\n",
      "PARAM_WORKER_FROM4:91815\n",
      "PARAM_WORKER_TO4:99886\n",
      "PARAM_WORKER_FROM5:99886\n",
      "PARAM_WORKER_TO5:107958\n",
      "PARAM_WORKER_FROM6:107958\n",
      "PARAM_WORKER_TO6:116030\n"
     ]
    }
   ],
   "source": [
    "import requests\n",
    "import json\n",
    "import base64\n",
    "from datetime import datetime\n",
    "import csv\n",
    "\n",
    "\n",
    "        \n",
    "# Example usage\n",
    "\n",
    "# Read API credentials from a text file\n",
    "def read_credentials_from_file(file_path):\n",
    "    api = 'https://fa-evzi-dev1-saasfaprod1.fa.ocs.oraclecloud.com/fscmRestApi/resources/11.13.18.05/itemsV2?q=OrganizationCode=\"MASTER\";InventoryItemFlag=true' + '&totalResults=true' \n",
    "    username = 'SEUN.DM'\n",
    "    password =  'SE@UNITask@189634!@IL!^'\n",
    "    MaxFileVolume = 5000\n",
    "    startAt = 67600\n",
    "    numOfWorkers = 6\n",
    "    return api, username, password, MaxFileVolume, startAt,numOfWorkers\n",
    "\n",
    "# Example usage\n",
    "credentials_file = \"APIData.txt\"  # Replace with the path to your credentials file\n",
    "\n",
    "# Read API credentials from file\n",
    "api_url, api_username, api_password, MaxFileVolume, startAt, numOfWorkers= read_credentials_from_file(credentials_file)\n",
    "\n",
    "total = extract_total_from_api(api_url, api_username, api_password, MaxFileVolume, startAt)\n",
    "print(total)\n",
    "for num in range(1, numOfWorkers):\n",
    "    os.environ[f'PARAM_WORKER_FROM{num}'] = str(int(startAt + num*total/numOfWorkers - total/numOfWorkers) )\n",
    "    os.environ[f'PARAM_WORKER_TO{num}'] = str(int(startAt + (num+1)*total/numOfWorkers - total/numOfWorkers))\n",
    "    print(f'PARAM_WORKER_FROM{num}:' + os.environ[f'PARAM_WORKER_FROM{num}'])\n",
    "    print(f'PARAM_WORKER_TO{num}:' + os.environ[f'PARAM_WORKER_TO{num}'])\n",
    "os.environ[f'PARAM_WORKER_TO{numOfWorkers}'] = str(int(startAt + total))\n",
    "print(f'PARAM_WORKER_FROM{numOfWorkers}:' + os.environ[f'PARAM_WORKER_TO{numOfWorkers-1}'])\n",
    "print(f'PARAM_WORKER_TO{numOfWorkers}:' + os.environ[f'PARAM_WORKER_TO{numOfWorkers}'])"
   ]
  }
 ],
 "metadata": {
  "kernelspec": {
   "display_name": "Python 3 (ipykernel)",
   "language": "python",
   "name": "python3"
  },
  "language_info": {
   "codemirror_mode": {
    "name": "ipython",
    "version": 3
   },
   "file_extension": ".py",
   "mimetype": "text/x-python",
   "name": "python",
   "nbconvert_exporter": "python",
   "pygments_lexer": "ipython3",
   "version": "3.11.4"
  }
 },
 "nbformat": 4,
 "nbformat_minor": 5
}

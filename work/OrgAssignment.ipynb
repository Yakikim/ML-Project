{
 "cells": [
  {
   "cell_type": "code",
   "execution_count": null,
   "id": "d423e167-95d0-4f8a-9070-d78e668e3e03",
   "metadata": {},
   "outputs": [],
   "source": [
    "from openpyxl import Workbook\n",
    "wb = Workbook()\n",
    "current = Workbook()\n",
    "# grab the active worksheet\n",
    "ws = wb.active\n",
    "\n",
    "current.\n"
   ]
  },
  {
   "cell_type": "code",
   "execution_count": null,
   "id": "06591b15-358f-41ab-b4a6-42ec577fd0da",
   "metadata": {},
   "outputs": [],
   "source": [
    "# Data can be assigned directly to cells\n",
    "ws['A1'] = 42\n",
    "\n",
    "# Rows can also be appended\n",
    "ws.append([1, 2, 3])\n",
    "\n",
    "# Python types will automatically be converted\n",
    "import datetime\n",
    "ws['A2'] = datetime.datetime.now()\n",
    "\n",
    "# Save the file\n",
    "wb.save(\"sample.xlsx\")"
   ]
  }
 ],
 "metadata": {
  "kernelspec": {
   "display_name": "Python 3 (ipykernel)",
   "language": "python",
   "name": "python3"
  },
  "language_info": {
   "codemirror_mode": {
    "name": "ipython",
    "version": 3
   },
   "file_extension": ".py",
   "mimetype": "text/x-python",
   "name": "python",
   "nbconvert_exporter": "python",
   "pygments_lexer": "ipython3",
   "version": "3.11.4"
  }
 },
 "nbformat": 4,
 "nbformat_minor": 5
}
